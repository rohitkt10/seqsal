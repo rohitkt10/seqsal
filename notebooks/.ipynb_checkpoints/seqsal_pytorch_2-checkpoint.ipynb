{
 "cells": [
  {
   "cell_type": "code",
   "execution_count": 3,
   "metadata": {},
   "outputs": [],
   "source": [
    "import torch\n",
    "from torch import nn\n",
    "import os, sys\n",
    "cwd = os.getcwd()\n",
    "modeldir = os.path.join(cwd, '..', 'scripts')\n",
    "sys.path.append(modeldir)\n",
    "from models import Reshape\n",
    "import poutyne\n",
    "from poutyne import framework\n",
    "\n",
    "%matplotlib inline"
   ]
  },
  {
   "cell_type": "code",
   "execution_count": 6,
   "metadata": {},
   "outputs": [],
   "source": [
    "datadir = os.path.join(cwd, '..', 'data')\n",
    "data     = np.load(os.path.join(datadir, 'data.npz'))\n",
    "\n",
    "X = np.eye(21)[data[\"X\"]]   # multiple sequence alignment\n",
    "W = data['W']     \n",
    "cons = data[\"cons\"]\n",
    "\n",
    "# mutant data\n",
    "dX = np.eye(21)[data[\"dX\"]] \n",
    "dY = data[\"dY\"] "
   ]
  },
  {
   "cell_type": "markdown",
   "metadata": {},
   "source": [
    "# Models "
   ]
  },
  {
   "cell_type": "markdown",
   "metadata": {},
   "source": [
    "## Linear Autoencoder"
   ]
  },
  {
   "cell_type": "code",
   "execution_count": 9,
   "metadata": {},
   "outputs": [],
   "source": [
    "class LinearAutoEncoder(nn.Module):\n",
    "    def __init__(self, L, A, rank=256, lam_enc=0.1, lam_dec=1., bias=False):\n",
    "        super(LinearAutoEncoder, self).__init__()\n",
    "        F = L*A\n",
    "        \n",
    "        # set up the encoder\n",
    "        encoder_layers = [nn.Flatten(), nn.Linear(F, rank, bias=bias)]\n",
    "        self.encoder   = nn.Sequential(*encoder_layers)\n",
    "        \n",
    "        # set up the decoder\n",
    "        decoder_layers = [nn.Linear(rank, F, bias=bias), ]\n",
    "        self.decoder   = nn.Sequential(*decoder_layers)\n",
    "        \n",
    "    def forward(self, x):\n",
    "        z = self.encoder(x)\n",
    "        y = self.decoder(z)\n",
    "        return y"
   ]
  },
  {
   "cell_type": "code",
   "execution_count": 13,
   "metadata": {
    "scrolled": false
   },
   "outputs": [
    {
     "data": {
      "text/plain": [
       "torch.Size([32, 5292])"
      ]
     },
     "execution_count": 13,
     "metadata": {},
     "output_type": "execute_result"
    }
   ],
   "source": [
    "lae1 = LinearAutoEncoder(252, 21, 512)\n",
    "lae1(torch.tensor(X[:32], dtype=torch.float32)).shape"
   ]
  },
  {
   "cell_type": "code",
   "execution_count": null,
   "metadata": {},
   "outputs": [],
   "source": []
  }
 ],
 "metadata": {
  "kernelspec": {
   "display_name": "Python 3",
   "language": "python",
   "name": "python3"
  },
  "language_info": {
   "codemirror_mode": {
    "name": "ipython",
    "version": 3
   },
   "file_extension": ".py",
   "mimetype": "text/x-python",
   "name": "python",
   "nbconvert_exporter": "python",
   "pygments_lexer": "ipython3",
   "version": "3.6.5"
  }
 },
 "nbformat": 4,
 "nbformat_minor": 2
}

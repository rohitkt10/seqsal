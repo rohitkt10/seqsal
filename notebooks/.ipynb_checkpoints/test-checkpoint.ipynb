{
 "cells": [
  {
   "cell_type": "code",
   "execution_count": 69,
   "metadata": {},
   "outputs": [],
   "source": [
    "import numpy as np\n",
    "np.set_printoptions(suppress=True)\n",
    "import os, sys \n",
    "import matplotlib\n",
    "import matplotlib.pyplot as plt \n",
    "\n",
    "import torch\n",
    "from torch import nn\n",
    "from torch import distributions as dist\n",
    "DTYPE = torch.float32\n",
    "\n",
    "#from models import LinearAutoEncoder, VariationalAutoEncoder, Reshape\n",
    "from models import Reshape\n",
    "\n",
    "%matplotlib inline"
   ]
  },
  {
   "cell_type": "code",
   "execution_count": 195,
   "metadata": {},
   "outputs": [
    {
     "name": "stdout",
     "output_type": "stream",
     "text": [
      "(10062, 252, 21)\n"
     ]
    }
   ],
   "source": [
    "## Load the data \n",
    "data = np.load('data.npz')\n",
    "X = data['X']  # num seq x seq length \n",
    "Xonehot = np.eye(21)[data['X']]  # num seq  x seq length x num AAs\n",
    "#shape = (Xonehot.shape[0], Xonehot.shape[2], Xonehot.shape[1])\n",
    "#Xonehot = Xonehot.reshape(*shape)  # num seq x num AAs x seq length \n",
    "W = data['W']\n",
    "N, L, A = Xonehot.shape\n",
    "print(Xonehot.shape)"
   ]
  },
  {
   "cell_type": "code",
   "execution_count": 341,
   "metadata": {},
   "outputs": [],
   "source": []
  },
  {
   "cell_type": "code",
   "execution_count": 332,
   "metadata": {},
   "outputs": [
    {
     "name": "stdout",
     "output_type": "stream",
     "text": [
      "tensor(9820772., grad_fn=<NegBackward>)\n"
     ]
    }
   ],
   "source": [
    "# create a pytorch dataset object \n",
    "vae = VariationalAutoEncoder(L, A, \n",
    "                             encoder_units=[256, 256], \n",
    "                             decoder_units=[256, 256])\n",
    "vae.train()\n",
    "Xt = torch.tensor(Xonehot, dtype=torch.float32)\n",
    "idx = np.random.randint(0, len(Xt), 100)\n",
    "Xtbatch = Xt[idx]\n",
    "zsample, zdist, x_cond_z_dist = vae(Xtbatch)\n",
    "negelbo = vae.negELBO(Xtbatch, scale_factor=len(Xt)/100.)\n",
    "print(negelbo)"
   ]
  },
  {
   "cell_type": "code",
   "execution_count": 334,
   "metadata": {},
   "outputs": [],
   "source": [
    "vae.eval();\n",
    "xs, xd = vae.sample(2)"
   ]
  },
  {
   "cell_type": "code",
   "execution_count": 340,
   "metadata": {},
   "outputs": [
    {
     "name": "stdout",
     "output_type": "stream",
     "text": [
      "torch.Size([2, 252]) torch.Size([2]) torch.Size([252]) torch.Size([2])\n"
     ]
    }
   ],
   "source": [
    "print(xd.sample().shape, xd.batch_shape, xd.event_shape, xd.log_prob(xd.sample()).shape)"
   ]
  },
  {
   "cell_type": "code",
   "execution_count": 185,
   "metadata": {},
   "outputs": [
    {
     "name": "stdout",
     "output_type": "stream",
     "text": [
      "torch.Size([5, 256])\n"
     ]
    }
   ],
   "source": []
  },
  {
   "cell_type": "code",
   "execution_count": 1,
   "metadata": {},
   "outputs": [],
   "source": [
    "from pyro.nn.auto_reg_nn import *"
   ]
  },
  {
   "cell_type": "code",
   "execution_count": 3,
   "metadata": {},
   "outputs": [
    {
     "data": {
      "text/plain": [
       "<function pyro.nn.auto_reg_nn.create_mask(input_dim, context_dim, hidden_dims, permutation, output_dim_multiplier)>"
      ]
     },
     "execution_count": 3,
     "metadata": {},
     "output_type": "execute_result"
    }
   ],
   "source": [
    "create_mask(input_dim=3, observed_dim=0, hidden_dims=[10, 10], )"
   ]
  },
  {
   "cell_type": "code",
   "execution_count": null,
   "metadata": {},
   "outputs": [],
   "source": []
  }
 ],
 "metadata": {
  "kernelspec": {
   "display_name": "Python 3",
   "language": "python",
   "name": "python3"
  },
  "language_info": {
   "codemirror_mode": {
    "name": "ipython",
    "version": 3
   },
   "file_extension": ".py",
   "mimetype": "text/x-python",
   "name": "python",
   "nbconvert_exporter": "python",
   "pygments_lexer": "ipython3",
   "version": "3.6.5"
  }
 },
 "nbformat": 4,
 "nbformat_minor": 2
}

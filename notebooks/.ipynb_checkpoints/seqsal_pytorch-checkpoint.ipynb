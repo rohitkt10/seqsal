{
 "cells": [
  {
   "cell_type": "code",
   "execution_count": 2,
   "metadata": {},
   "outputs": [],
   "source": [
    "np.set_printoptions(suppress=True)\n",
    "cwd = os.getcwd()\n",
    "scriptspath = os.path.join(cwd, '..', 'scripts')\n",
    "sys.path.append(scriptspath)\n",
    "import six\n",
    "\n",
    "import scipy\n",
    "from scipy.stats import spearmanr\n",
    "from scipy.spatial.distance import pdist, squareform\n",
    "\n",
    "from sklearn.cross_validation import train_test_split\n",
    "\n",
    "import torch \n",
    "from torch import nn\n",
    "\n",
    "from models import LinearAutoEncoder, VariationalAutoEncoder, LpRegularizer\n",
    "from data_processing import ProteinMSADataset\n",
    "\n",
    "from tensorflow import keras as tfk\n",
    "import tensorflow as tf\n",
    "\n",
    "import matplotlib.pyplot as plt\n",
    "import seaborn as sns\n",
    "sns.set()\n",
    "\n",
    "%matplotlib inline"
   ]
  },
  {
   "cell_type": "markdown",
   "metadata": {},
   "source": [
    "# GPU "
   ]
  },
  {
   "cell_type": "code",
   "execution_count": 3,
   "metadata": {},
   "outputs": [],
   "source": [
    "if torch.cuda.is_available():\n",
    "    device = torch.device('cuda:0')\n",
    "else:\n",
    "    device = torch.device('cpu')\n",
    "\n",
    "## sanity check - send a tensor to the GPU \n",
    "x = torch.rand(2, 3).to(device)"
   ]
  },
  {
   "cell_type": "markdown",
   "metadata": {},
   "source": [
    "# Data  "
   ]
  },
  {
   "cell_type": "code",
   "execution_count": 4,
   "metadata": {},
   "outputs": [],
   "source": [
    "# load data \n",
    "BATCH_SIZE = 32\n",
    "dataloader_params = {\n",
    "    'batch_size':BATCH_SIZE, \n",
    "    'shuffle':True,\n",
    "    'num_workers':4\n",
    "}\n",
    "\n",
    "\n",
    "datapath = os.path.join(cwd, '..', 'data', 'data.npz')\n",
    "dataset = ProteinMSADataset(datapath=datapath)\n",
    "dataloader = torch.utils.data.DataLoader(dataset=dataset, \n",
    "                                         **dataloader_params)"
   ]
  },
  {
   "cell_type": "code",
   "execution_count": null,
   "metadata": {},
   "outputs": [],
   "source": [
    "X, W = next(iter(dataloader))"
   ]
  },
  {
   "cell_type": "markdown",
   "metadata": {},
   "source": [
    "# Models \n",
    "\n",
    "## 1. Linear autoencoder"
   ]
  },
  {
   "cell_type": "markdown",
   "metadata": {},
   "source": [
    "### Set up the model"
   ]
  },
  {
   "cell_type": "code",
   "execution_count": 5,
   "metadata": {},
   "outputs": [
    {
     "name": "stdout",
     "output_type": "stream",
     "text": [
      "LinearAutoEncoder(\n",
      "  (flatten): Flatten()\n",
      "  (encoder): Linear(in_features=5292, out_features=256, bias=False)\n",
      "  (decoder): Linear(in_features=256, out_features=5292, bias=True)\n",
      "  (reshape): Reshape()\n",
      "  (softmax): Softmax(dim=1)\n",
      ")\n"
     ]
    }
   ],
   "source": [
    "A, L  = dataset[0][0].shape\n",
    "N     = len(dataset)\n",
    "F     = A * L\n",
    "rank  = 256\n",
    "model = LinearAutoEncoder(L, A, rank=rank)\n",
    "print(model)"
   ]
  },
  {
   "cell_type": "markdown",
   "metadata": {},
   "source": [
    "### Setup the loss function, regularizer and optimizer  "
   ]
  },
  {
   "cell_type": "code",
   "execution_count": null,
   "metadata": {},
   "outputs": [],
   "source": [
    "# loss function - categorical cross entropy\n",
    "lossfn = nn.CrossEntropyLoss(reduction='none')\n",
    "\n",
    "# regularizers - separate regularizers for encoder and decoder\n",
    "lmbda_w, lmbda_e = 0.1, 1.0\n",
    "encoder_reg = LpRegularizer()\n",
    "decoder_reg = LpRegularizer()"
   ]
  },
  {
   "cell_type": "code",
   "execution_count": null,
   "metadata": {},
   "outputs": [],
   "source": [
    "Xhat = model(X)"
   ]
  },
  {
   "cell_type": "code",
   "execution_count": null,
   "metadata": {
    "scrolled": false
   },
   "outputs": [],
   "source": [
    "for epoch in range(nepochs):\n",
    "    for (seqs, ws) in dataloader:\n",
    "        # send the data to the GPU \n",
    "        seqs, ws = seqs.to(device), seqs.to(device)\n",
    "        target_seqs = torch.LongTensor(seqs.argmax(dim=1)).to(device)\n",
    "        \n",
    "        # \n",
    "        \n",
    "        "
   ]
  },
  {
   "cell_type": "code",
   "execution_count": null,
   "metadata": {
    "scrolled": true
   },
   "outputs": [],
   "source": [
    "generator = iter(dataloader)"
   ]
  },
  {
   "cell_type": "code",
   "execution_count": null,
   "metadata": {},
   "outputs": [],
   "source": [
    "X, W = next(generator)\n",
    "Xhat = model(X)\n",
    "Xtarget = torch.LongTensor(X.argmax(dim=1))\n",
    "loss = lossfn(Xhat, Xtarget)\n",
    "encoder_reg = LpRegularizer(p=)\n",
    "weighted_loss = W[:, None] * loss\n",
    "regularization = encoder_reg(model.encoder) + decoder_reg(model.decoder)\n",
    "regularized_weighted_loss = weighted_loss + regularization"
   ]
  },
  {
   "cell_type": "code",
   "execution_count": null,
   "metadata": {
    "scrolled": true
   },
   "outputs": [],
   "source": [
    "a = torch.rand(2, 3)\n",
    "w = torch.arange(1, 3)[:, None]"
   ]
  },
  {
   "cell_type": "code",
   "execution_count": null,
   "metadata": {},
   "outputs": [],
   "source": [
    "W[:, None].shape, loss.shape"
   ]
  },
  {
   "cell_type": "code",
   "execution_count": null,
   "metadata": {},
   "outputs": [],
   "source": []
  }
 ],
 "metadata": {
  "kernelspec": {
   "display_name": "Python 3",
   "language": "python",
   "name": "python3"
  },
  "language_info": {
   "codemirror_mode": {
    "name": "ipython",
    "version": 3
   },
   "file_extension": ".py",
   "mimetype": "text/x-python",
   "name": "python",
   "nbconvert_exporter": "python",
   "pygments_lexer": "ipython3",
   "version": "3.6.5"
  }
 },
 "nbformat": 4,
 "nbformat_minor": 2
}
